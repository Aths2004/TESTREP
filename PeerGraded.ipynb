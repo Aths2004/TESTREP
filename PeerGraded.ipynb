{
 "cells": [
  {
   "cell_type": "markdown",
   "id": "c2a926de-d6f1-44f3-bfef-18682007a2b7",
   "metadata": {},
   "source": [
    "# Data Science Tools and Ecosystem"
   ]
  },
  {
   "cell_type": "markdown",
   "id": "b85f74a6-21ba-4f54-abca-b08e39fd1fda",
   "metadata": {},
   "source": [
    "## Introduction:\n",
    "We have summarized Data Science Tools and Ecosystems in this notebook."
   ]
  },
  {
   "cell_type": "markdown",
   "id": "553ccc60-7532-41ca-972f-df4c15c0e3fd",
   "metadata": {},
   "source": [
    "## Objectives:\n",
    "- Create and run Markdown cells and format the text by using different headers or bold or italic options\n",
    "- List popular languages used by Data Scientists using ordered lists\n",
    "- List common libraries used by Data Scientists using ordered lists\n",
    "- Create a table containing open source tools used in Data Science\n",
    "- Perform Python operations and execute them"
   ]
  },
  {
   "cell_type": "markdown",
   "id": "8bd094fd-f40b-4696-93a0-4900463c36e7",
   "metadata": {},
   "source": [
    "### Some of the popular languages that Data Scientists use are:\n",
    "1. Python\n",
    "2. JavaScript\n",
    "3. Scala\n",
    "4. R\n",
    "5. SQL\n",
    "6. Julia"
   ]
  },
  {
   "cell_type": "markdown",
   "id": "aff6f0e5-b830-4b70-8d70-cb7799a545c2",
   "metadata": {},
   "source": [
    "### Some of the commonly used libraries used by Data Scientists include:\n",
    "1. NumPy\n",
    "2. Keras\n",
    "3. Panda\n",
    "4. PyTorch\n",
    "5. SciPy\n",
    "6. Scikit-Learn\n",
    "7. Tensor Flow\n",
    "8. Matplotlib"
   ]
  },
  {
   "cell_type": "markdown",
   "id": "f2782dc7-6e00-4ea0-baba-20374fe0a6e0",
   "metadata": {},
   "source": [
    "### Three development environment open source tools used in data science are:\n",
    "|Data Science Tools|\n",
    "|------------------|\n",
    "|RStudio|\n",
    "|Apache Spark|\n",
    "|TensorFlow|"
   ]
  },
  {
   "cell_type": "markdown",
   "id": "54afedc2-7aa0-4a3d-804e-58dfaea15024",
   "metadata": {},
   "source": [
    "### Below are a few examples of evaluating arithmetic expressions in Python:\n",
    "1. Addition: print(2+3)\n",
    "2. Subtraction: print(5-3)\n",
    "3. Multiplication: print(2*5)\n",
    "4. Division: print(9/3)"
   ]
  },
  {
   "cell_type": "markdown",
   "id": "468155c2-1a85-4d6b-97cb-d3d91baad5eb",
   "metadata": {},
   "source": [
    "print(\"Addition: \",(2+3))\n",
    "print(\"Subtraction: \",(5-3))\n",
    "print(\"Multiplication: \",(2*5))\n",
    "print(\"Division: \",(9/3))"
   ]
  },
  {
   "cell_type": "code",
   "execution_count": 1,
   "id": "96a11515-bac2-416d-b1ec-96fda37068aa",
   "metadata": {
    "tags": []
   },
   "outputs": [
    {
     "name": "stdout",
     "output_type": "stream",
     "text": [
      "17\n"
     ]
    }
   ],
   "source": [
    "#This a simple arithmetic expression to mutiply then add integers\n",
    "a = (3*4)+5\n",
    "print(a)"
   ]
  },
  {
   "cell_type": "code",
   "execution_count": 2,
   "id": "5e10749c-6da5-42ba-8d41-d38311b32702",
   "metadata": {
    "tags": []
   },
   "outputs": [
    {
     "name": "stdout",
     "output_type": "stream",
     "text": [
      "200 minutes =  3.3333333333333335  hours\n"
     ]
    }
   ],
   "source": [
    "#This will convert 200 minutes to hours by diving by 60 since 1 hour has 60 minutes\n",
    "h=200/60\n",
    "print(\"200 minutes = \", h , \" hours\") "
   ]
  },
  {
   "cell_type": "markdown",
   "id": "ea7a2af5-752d-42f2-b237-df3af95fa583",
   "metadata": {
    "tags": []
   },
   "source": [
    "## Author\n",
    "Atharva Chavan"
   ]
  },
  {
   "cell_type": "code",
   "execution_count": null,
   "id": "6a39ef27-a3e0-4360-a935-cbcb99ace753",
   "metadata": {},
   "outputs": [],
   "source": []
  }
 ],
 "metadata": {
  "kernelspec": {
   "display_name": "Python",
   "language": "python",
   "name": "conda-env-python-py"
  },
  "language_info": {
   "codemirror_mode": {
    "name": "ipython",
    "version": 3
   },
   "file_extension": ".py",
   "mimetype": "text/x-python",
   "name": "python",
   "nbconvert_exporter": "python",
   "pygments_lexer": "ipython3",
   "version": "3.7.12"
  }
 },
 "nbformat": 4,
 "nbformat_minor": 5
}
